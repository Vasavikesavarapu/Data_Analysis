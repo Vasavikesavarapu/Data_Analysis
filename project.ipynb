{
  "nbformat": 4,
  "nbformat_minor": 0,
  "metadata": {
    "colab": {
      "provenance": []
    },
    "kernelspec": {
      "name": "python3",
      "display_name": "Python 3"
    },
    "language_info": {
      "name": "python"
    }
  },
  "cells": [
    {
      "cell_type": "code",
      "execution_count": 1,
      "metadata": {
        "colab": {
          "base_uri": "https://localhost:8080/"
        },
        "id": "LNtvhqoe2Hie",
        "outputId": "05512518-32be-474a-fec0-f586c1b25b5e"
      },
      "outputs": [
        {
          "output_type": "stream",
          "name": "stdout",
          "text": [
            "Enter city name: Tanuku\n",
            "Weather in Tanuku:\n",
            "Condition: Clear \n",
            "Temperature (C): 22.0\n",
            "Feels like (C): 22.0\n",
            "Humidity: 89\n",
            "Wind (km/h): 9.0\n",
            "Wind Direction: ENE\n",
            "Cloud : 5\n",
            "No alerts\n"
          ]
        }
      ],
      "source": [
        "import requests\n",
        "\n",
        "api_key = 'a6397a3666834e188b7162940242002'\n",
        "\n",
        "def get_weather(city, api_key):\n",
        "    url = f\"https://api.weatherapi.com/v1/current.json?key={api_key}&q={city}\"\n",
        "    response = requests.get(url)\n",
        "    data = response.json()\n",
        "    return data\n",
        "\n",
        "def main():\n",
        "    city = input(\"Enter city name: \")\n",
        "    weather_data = get_weather(city, api_key)\n",
        "\n",
        "    if 'error' in weather_data:\n",
        "        print(\"Error:\", weather_data['error']['message'])\n",
        "    else:\n",
        "        print(f\"Weather in {city}:\")\n",
        "        print(\"Condition:\", weather_data['current']['condition']['text'])\n",
        "        print(\"Temperature (C):\", weather_data['current']['temp_c'])\n",
        "        print(\"Feels like (C):\", weather_data['current']['feelslike_c'])\n",
        "        print(\"Humidity:\", weather_data['current']['humidity'])\n",
        "        print(\"Wind (km/h):\", weather_data['current']['wind_kph'])\n",
        "        print(\"Wind Direction:\", weather_data['current']['wind_dir'])\n",
        "        print(\"Cloud :\", weather_data['current']['cloud'])\n",
        "\n",
        "        if 'alert' in weather_data['current']:\n",
        "            print(\"Alert Headline:\", weather_data['current']['alert']['headline'])\n",
        "        else:\n",
        "            print(\"No alerts\")\n",
        "\n",
        "\n",
        "if __name__ == \"__main__\":\n",
        "    main()"
      ]
    }
  ]
}