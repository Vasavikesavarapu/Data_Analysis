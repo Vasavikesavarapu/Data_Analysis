{
  "cells": [
    {
      "cell_type": "code",
      "execution_count": null,
      "metadata": {
        "id": "R0BYGYIFbJ4g"
      },
      "outputs": [],
      "source": [
        "#importing\n",
        "import numpy as np\n"
      ]
    },
    {
      "cell_type": "code",
      "execution_count": null,
      "metadata": {
        "colab": {
          "base_uri": "https://localhost:8080/"
        },
        "id": "ZNwiT6ZTeoQs",
        "outputId": "0ee3adbe-d8ed-4eff-9b3d-c49c2f87b0b6"
      },
      "outputs": [
        {
          "name": "stdout",
          "output_type": "stream",
          "text": [
            "Collecting np\n",
            "  Downloading np-1.0.2.tar.gz (7.4 kB)\n",
            "  Preparing metadata (setup.py) ... \u001b[?25l\u001b[?25hdone\n",
            "Building wheels for collected packages: np\n",
            "  Building wheel for np (setup.py) ... \u001b[?25l\u001b[?25hdone\n",
            "  Created wheel for np: filename=np-1.0.2-py3-none-any.whl size=13658 sha256=2546e878ea3d8e74e41f777866bb6ddab88676665567ad087556e2e5a119fa4f\n",
            "  Stored in directory: /root/.cache/pip/wheels/f9/e1/79/c4580a03022dece233bc146286fc9082a8885ee1a7c8d8b980\n",
            "Successfully built np\n",
            "Installing collected packages: np\n",
            "Successfully installed np-1.0.2\n"
          ]
        }
      ],
      "source": [
        "!pip install np\n"
      ]
    },
    {
      "cell_type": "markdown",
      "metadata": {
        "id": "72uNpXN1e2T1"
      },
      "source": [
        "Arrays"
      ]
    },
    {
      "cell_type": "code",
      "execution_count": null,
      "metadata": {
        "colab": {
          "base_uri": "https://localhost:8080/"
        },
        "id": "mu8Iwylme4HQ",
        "outputId": "c9b3ff50-161b-4699-e1a6-680a5cfc3044"
      },
      "outputs": [
        {
          "name": "stdout",
          "output_type": "stream",
          "text": [
            "<class 'numpy.ndarray'>\n"
          ]
        }
      ],
      "source": [
        "#creating 1D Array\n",
        "a=np.array([4,5,6,7])\n",
        "print(type(a))"
      ]
    },
    {
      "cell_type": "code",
      "execution_count": null,
      "metadata": {
        "colab": {
          "base_uri": "https://localhost:8080/"
        },
        "id": "x5x1dHb4fTFz",
        "outputId": "3a074ac8-19b1-4182-9d7a-52bf4c209c9e"
      },
      "outputs": [
        {
          "name": "stdout",
          "output_type": "stream",
          "text": [
            "[[1 2 3]\n",
            " [2 3 4]]\n"
          ]
        }
      ],
      "source": [
        "#creating 2D Array (rows and columns)\n",
        "b=np.array([[1,2,3],[2,3,4]])\n",
        "print(b)"
      ]
    },
    {
      "cell_type": "code",
      "execution_count": null,
      "metadata": {
        "colab": {
          "base_uri": "https://localhost:8080/"
        },
        "id": "ZGx5In4Qg-KV",
        "outputId": "8135a2f3-93fb-4cdd-8191-c1f82b31e16d"
      },
      "outputs": [
        {
          "name": "stdout",
          "output_type": "stream",
          "text": [
            "[[[2 3 4]\n",
            "  [3 4 5]]\n",
            "\n",
            " [[4 5 6]\n",
            "  [5 6 7]]]\n"
          ]
        }
      ],
      "source": [
        "#creating 3D Array (rows,columns,groups)\n",
        "c=np.array([[[2,3,4],[3,4,5]],[[4,5,6],[5,6,7]]])\n",
        "print(c)"
      ]
    },
    {
      "cell_type": "code",
      "execution_count": null,
      "metadata": {
        "colab": {
          "base_uri": "https://localhost:8080/"
        },
        "id": "km_0N2X-hqCx",
        "outputId": "e9ccf0b4-7adf-4819-be4c-8ce127249284"
      },
      "outputs": [
        {
          "name": "stdout",
          "output_type": "stream",
          "text": [
            "1\n",
            "2\n",
            "3\n"
          ]
        }
      ],
      "source": [
        "#checking dimensions\n",
        "print(a.ndim)\n",
        "print(b.ndim)\n",
        "print(c.ndim)"
      ]
    },
    {
      "cell_type": "code",
      "execution_count": null,
      "metadata": {
        "colab": {
          "base_uri": "https://localhost:8080/"
        },
        "id": "9T8jhMFlh3kM",
        "outputId": "6daa967d-4fd1-4888-8f7a-16ed8d080825"
      },
      "outputs": [
        {
          "output_type": "stream",
          "name": "stdout",
          "text": [
            "[[[1. 1. 1.]\n",
            "  [1. 1. 1.]\n",
            "  [1. 1. 1.]]\n",
            "\n",
            " [[1. 1. 1.]\n",
            "  [1. 1. 1.]\n",
            "  [1. 1. 1.]]]\n"
          ]
        }
      ],
      "source": [
        "#ones\n",
        "d=np.ones((2,3,3)) #groups,rows,colums #3D\n",
        "print(d)"
      ]
    },
    {
      "cell_type": "code",
      "source": [
        "#ones\n",
        "e=np.ones((3,2)) #rows,columns,2D\n",
        "print(e)"
      ],
      "metadata": {
        "colab": {
          "base_uri": "https://localhost:8080/"
        },
        "outputId": "997ffbfe-c61e-45af-83f6-d59c24dfc3b1",
        "id": "82vnv4B2IGpM"
      },
      "execution_count": null,
      "outputs": [
        {
          "output_type": "stream",
          "name": "stdout",
          "text": [
            "[[1. 1.]\n",
            " [1. 1.]\n",
            " [1. 1.]]\n"
          ]
        }
      ]
    },
    {
      "cell_type": "code",
      "source": [
        "#zeros\n",
        "f=np.zeros((3,2)) #2D\n",
        "print(f)"
      ],
      "metadata": {
        "colab": {
          "base_uri": "https://localhost:8080/"
        },
        "id": "y9Sc4PjnkqLz",
        "outputId": "7a4aed96-6b73-48c6-eac6-75770c39f3a9"
      },
      "execution_count": null,
      "outputs": [
        {
          "output_type": "stream",
          "name": "stdout",
          "text": [
            "[[0. 0.]\n",
            " [0. 0.]\n",
            " [0. 0.]]\n"
          ]
        }
      ]
    },
    {
      "cell_type": "code",
      "source": [
        "#identity matrix\n",
        "j=np.eye(4)\n",
        "print(j)"
      ],
      "metadata": {
        "colab": {
          "base_uri": "https://localhost:8080/"
        },
        "id": "6YQI5TR1keuI",
        "outputId": "5165999c-9da1-43ed-d8e9-18501d37dfee"
      },
      "execution_count": null,
      "outputs": [
        {
          "output_type": "stream",
          "name": "stdout",
          "text": [
            "[[1. 0. 0. 0.]\n",
            " [0. 1. 0. 0.]\n",
            " [0. 0. 1. 0.]\n",
            " [0. 0. 0. 1.]]\n"
          ]
        }
      ]
    },
    {
      "cell_type": "code",
      "source": [
        "h=np.eye(4,3)\n",
        "print(h)"
      ],
      "metadata": {
        "colab": {
          "base_uri": "https://localhost:8080/"
        },
        "id": "flOFrqJ4l7Vy",
        "outputId": "9013b77c-bf49-40e8-cdc1-ef27567e8839"
      },
      "execution_count": null,
      "outputs": [
        {
          "output_type": "stream",
          "name": "stdout",
          "text": [
            "[[1. 0. 0.]\n",
            " [0. 1. 0.]\n",
            " [0. 0. 1.]\n",
            " [0. 0. 0.]]\n"
          ]
        }
      ]
    },
    {
      "cell_type": "code",
      "source": [
        "#arange\n",
        "i=np.arange(3,31,3) #start,stop,step\n",
        "print(i)"
      ],
      "metadata": {
        "colab": {
          "base_uri": "https://localhost:8080/"
        },
        "id": "AhSsOjiAmQUu",
        "outputId": "0d336026-b3d5-4fe8-94f2-7dd2e0e03d27"
      },
      "execution_count": null,
      "outputs": [
        {
          "output_type": "stream",
          "name": "stdout",
          "text": [
            "[ 3  6  9 12 15 18 21 24 27 30]\n"
          ]
        }
      ]
    },
    {
      "cell_type": "code",
      "source": [
        "#arange with reshape(we can change into rows and columns with our specification)\n",
        "i=np.arange(4,41,4).reshape(5,2)\n",
        "print(i)"
      ],
      "metadata": {
        "colab": {
          "base_uri": "https://localhost:8080/"
        },
        "id": "3CEmsgYJmnIt",
        "outputId": "f8a9d245-2005-4024-b761-40fd83da9198"
      },
      "execution_count": null,
      "outputs": [
        {
          "output_type": "stream",
          "name": "stdout",
          "text": [
            "[[ 4  8]\n",
            " [12 16]\n",
            " [20 24]\n",
            " [28 32]\n",
            " [36 40]]\n"
          ]
        }
      ]
    },
    {
      "cell_type": "code",
      "source": [
        "#arange\n",
        "i=np.arange(5,1001,5).reshape(50,4)\n",
        "print(i)"
      ],
      "metadata": {
        "colab": {
          "base_uri": "https://localhost:8080/"
        },
        "id": "HQOlIEHRnhBv",
        "outputId": "787046cb-2974-4ae9-d971-1aeeb3d8f611"
      },
      "execution_count": null,
      "outputs": [
        {
          "output_type": "stream",
          "name": "stdout",
          "text": [
            "[[   5   10   15   20]\n",
            " [  25   30   35   40]\n",
            " [  45   50   55   60]\n",
            " [  65   70   75   80]\n",
            " [  85   90   95  100]\n",
            " [ 105  110  115  120]\n",
            " [ 125  130  135  140]\n",
            " [ 145  150  155  160]\n",
            " [ 165  170  175  180]\n",
            " [ 185  190  195  200]\n",
            " [ 205  210  215  220]\n",
            " [ 225  230  235  240]\n",
            " [ 245  250  255  260]\n",
            " [ 265  270  275  280]\n",
            " [ 285  290  295  300]\n",
            " [ 305  310  315  320]\n",
            " [ 325  330  335  340]\n",
            " [ 345  350  355  360]\n",
            " [ 365  370  375  380]\n",
            " [ 385  390  395  400]\n",
            " [ 405  410  415  420]\n",
            " [ 425  430  435  440]\n",
            " [ 445  450  455  460]\n",
            " [ 465  470  475  480]\n",
            " [ 485  490  495  500]\n",
            " [ 505  510  515  520]\n",
            " [ 525  530  535  540]\n",
            " [ 545  550  555  560]\n",
            " [ 565  570  575  580]\n",
            " [ 585  590  595  600]\n",
            " [ 605  610  615  620]\n",
            " [ 625  630  635  640]\n",
            " [ 645  650  655  660]\n",
            " [ 665  670  675  680]\n",
            " [ 685  690  695  700]\n",
            " [ 705  710  715  720]\n",
            " [ 725  730  735  740]\n",
            " [ 745  750  755  760]\n",
            " [ 765  770  775  780]\n",
            " [ 785  790  795  800]\n",
            " [ 805  810  815  820]\n",
            " [ 825  830  835  840]\n",
            " [ 845  850  855  860]\n",
            " [ 865  870  875  880]\n",
            " [ 885  890  895  900]\n",
            " [ 905  910  915  920]\n",
            " [ 925  930  935  940]\n",
            " [ 945  950  955  960]\n",
            " [ 965  970  975  980]\n",
            " [ 985  990  995 1000]]\n"
          ]
        }
      ]
    },
    {
      "cell_type": "code",
      "source": [
        "#linespace\n",
        "j=np.linspace(27,29,10)\n",
        "print(j)"
      ],
      "metadata": {
        "colab": {
          "base_uri": "https://localhost:8080/"
        },
        "id": "Xu1lwDBeoVqW",
        "outputId": "4009824c-91d8-4bee-acee-0f74a4ceb7d6"
      },
      "execution_count": null,
      "outputs": [
        {
          "output_type": "stream",
          "name": "stdout",
          "text": [
            "[27.         27.22222222 27.44444444 27.66666667 27.88888889 28.11111111\n",
            " 28.33333333 28.55555556 28.77777778 29.        ]\n"
          ]
        }
      ]
    },
    {
      "cell_type": "code",
      "source": [
        "j=np.linspace(1,2,6)\n",
        "print(j)"
      ],
      "metadata": {
        "colab": {
          "base_uri": "https://localhost:8080/"
        },
        "id": "qAQEijXysXjp",
        "outputId": "74dc0aa1-4a0b-457e-bbc5-1868b59e98cc"
      },
      "execution_count": null,
      "outputs": [
        {
          "output_type": "stream",
          "name": "stdout",
          "text": [
            "[1.  1.2 1.4 1.6 1.8 2. ]\n"
          ]
        }
      ]
    },
    {
      "cell_type": "code",
      "source": [
        "[1.  1.2 1.4 1.6 1.8 2. ]\n"
      ],
      "metadata": {
        "id": "pt3KzVkIMWdj"
      },
      "execution_count": null,
      "outputs": []
    },
    {
      "cell_type": "markdown",
      "source": [
        "Operations"
      ],
      "metadata": {
        "id": "ns_q8Secpqx_"
      }
    },
    {
      "cell_type": "code",
      "source": [
        "import numpy as np\n",
        "k=np.arange(2,8).reshape(3,2)\n",
        "print(k)\n",
        "m=np.arange(13,19).reshape(3,2)\n",
        "print(m)\n",
        "print(m+k)\n",
        "print(m-k)\n",
        "print(m*k)\n",
        "print(m/k)"
      ],
      "metadata": {
        "colab": {
          "base_uri": "https://localhost:8080/"
        },
        "id": "6UMO8k_WppoJ",
        "outputId": "782f8399-8d61-4b4c-ae97-b5c65cbce061"
      },
      "execution_count": null,
      "outputs": [
        {
          "output_type": "stream",
          "name": "stdout",
          "text": [
            "[[2 3]\n",
            " [4 5]\n",
            " [6 7]]\n",
            "[[13 14]\n",
            " [15 16]\n",
            " [17 18]]\n",
            "[[15 17]\n",
            " [19 21]\n",
            " [23 25]]\n",
            "[[11 11]\n",
            " [11 11]\n",
            " [11 11]]\n",
            "[[ 26  42]\n",
            " [ 60  80]\n",
            " [102 126]]\n",
            "[[6.5        4.66666667]\n",
            " [3.75       3.2       ]\n",
            " [2.83333333 2.57142857]]\n"
          ]
        }
      ]
    },
    {
      "cell_type": "code",
      "source": [],
      "metadata": {
        "id": "ujihnhPSVmig"
      },
      "execution_count": null,
      "outputs": []
    },
    {
      "cell_type": "code",
      "source": [
        "n=np.sum(k*m)\n",
        "print(n)"
      ],
      "metadata": {
        "colab": {
          "base_uri": "https://localhost:8080/"
        },
        "id": "DMafwvGuqbc-",
        "outputId": "895eef4d-b9dc-4935-a2bf-0807743796a4"
      },
      "execution_count": null,
      "outputs": [
        {
          "output_type": "stream",
          "name": "stdout",
          "text": [
            "436\n"
          ]
        }
      ]
    },
    {
      "cell_type": "markdown",
      "source": [
        "axis=0 => columns\n",
        "axis=1 => rows\n",
        "axis=2 => groups"
      ],
      "metadata": {
        "id": "XFyymS7OtQXs"
      }
    },
    {
      "cell_type": "code",
      "source": [
        "o=np.sum((k,m),axis=0)\n",
        "print(o)"
      ],
      "metadata": {
        "colab": {
          "base_uri": "https://localhost:8080/"
        },
        "id": "k0c09Jh5tPKf",
        "outputId": "1728d46c-c029-408a-9440-4cb793abd5f5"
      },
      "execution_count": null,
      "outputs": [
        {
          "output_type": "stream",
          "name": "stdout",
          "text": [
            "[[15 17]\n",
            " [19 21]\n",
            " [23 25]]\n"
          ]
        }
      ]
    },
    {
      "cell_type": "code",
      "source": [
        "o=np.sum((k,m),axis=1)\n",
        "print(o)"
      ],
      "metadata": {
        "colab": {
          "base_uri": "https://localhost:8080/"
        },
        "id": "thZzeU4huEbX",
        "outputId": "201c1f66-326c-40d9-98c4-2a70396c56e9"
      },
      "execution_count": null,
      "outputs": [
        {
          "output_type": "stream",
          "name": "stdout",
          "text": [
            "[[12 15]\n",
            " [45 48]]\n"
          ]
        }
      ]
    },
    {
      "cell_type": "code",
      "source": [
        "o=np.sum((k,m),axis=2)\n",
        "print(o)"
      ],
      "metadata": {
        "colab": {
          "base_uri": "https://localhost:8080/"
        },
        "id": "HqO7LtNZuKoe",
        "outputId": "faaa16be-c848-4b3c-b785-142f198a61b1"
      },
      "execution_count": null,
      "outputs": [
        {
          "output_type": "stream",
          "name": "stdout",
          "text": [
            "[[ 5  9 13]\n",
            " [27 31 35]]\n"
          ]
        }
      ]
    },
    {
      "cell_type": "code",
      "source": [
        "h=np.ones((4,2))\n",
        "g=np.ones((4,2))\n",
        "print(np.sum((h,g),axis=0))\n",
        "print(np.sum((h,g),axis=1))"
      ],
      "metadata": {
        "colab": {
          "base_uri": "https://localhost:8080/"
        },
        "id": "4QiMtg_evfI0",
        "outputId": "27f7fc3b-9c2f-4ced-cbbb-596669359ca2"
      },
      "execution_count": null,
      "outputs": [
        {
          "output_type": "stream",
          "name": "stdout",
          "text": [
            "[[2. 2.]\n",
            " [2. 2.]\n",
            " [2. 2.]\n",
            " [2. 2.]]\n",
            "[[4. 4.]\n",
            " [4. 4.]]\n"
          ]
        }
      ]
    },
    {
      "cell_type": "code",
      "source": [
        "a=np.array([[1,1],[0,1]])\n",
        "b=np.array([[2,0],[3,4]])\n",
        "print(a*b)\n",
        "print(a@b)"
      ],
      "metadata": {
        "colab": {
          "base_uri": "https://localhost:8080/"
        },
        "id": "_XygAW8pwuJV",
        "outputId": "3105d32a-f25a-4a03-e3cd-7dd68ed09f09"
      },
      "execution_count": null,
      "outputs": [
        {
          "output_type": "stream",
          "name": "stdout",
          "text": [
            "[[2 0]\n",
            " [0 4]]\n",
            "[[5 4]\n",
            " [3 4]]\n"
          ]
        }
      ]
    },
    {
      "cell_type": "markdown",
      "source": [
        "b=np.array[25,289,361,81] #find square roots and iterate through result values\n",
        "output=5 square is 25"
      ],
      "metadata": {
        "id": "V1cgOujBxiVU"
      }
    },
    {
      "cell_type": "code",
      "source": [
        "b=np.array([25,289,361,81])\n",
        "for i in b:\n",
        "  print((np.sqrt(i)),\"square is\",i)"
      ],
      "metadata": {
        "colab": {
          "base_uri": "https://localhost:8080/"
        },
        "id": "V6Jw6JW4x3ap",
        "outputId": "44b915f1-3e25-4446-d1e4-13c57d1ef1cc"
      },
      "execution_count": null,
      "outputs": [
        {
          "output_type": "stream",
          "name": "stdout",
          "text": [
            "5.0 square is 25\n",
            "17.0 square is 289\n",
            "19.0 square is 361\n",
            "9.0 square is 81\n"
          ]
        }
      ]
    },
    {
      "cell_type": "markdown",
      "source": [
        "Array_joins"
      ],
      "metadata": {
        "id": "Fugw5NJ54aoc"
      }
    },
    {
      "cell_type": "code",
      "source": [
        "a=np.array([23,24,25,26,27,28]).reshape(2,3)\n",
        "b=np.array([4,5,6,7,8,9]).reshape(2,3)\n",
        "print(np.vstack((a,b)))\n",
        "print(np.hstack((a,b)))"
      ],
      "metadata": {
        "colab": {
          "base_uri": "https://localhost:8080/"
        },
        "id": "Y5juCx4X4fJy",
        "outputId": "2b371438-e3fa-4616-8c07-009746e6a47f"
      },
      "execution_count": null,
      "outputs": [
        {
          "output_type": "stream",
          "name": "stdout",
          "text": [
            "[[23 24 25]\n",
            " [26 27 28]\n",
            " [ 4  5  6]\n",
            " [ 7  8  9]]\n",
            "[[23 24 25  4  5  6]\n",
            " [26 27 28  7  8  9]]\n"
          ]
        }
      ]
    },
    {
      "cell_type": "code",
      "source": [
        "a=np.array([23,24,25,26,27,28])\n",
        "a.resize(2,3)\n",
        "b=np.array([4,5,6,7,8,9])\n",
        "b.resize(2,3)\n",
        "print(np.vstack((a,b))) #columns\n",
        "print(np.hstack((a,b))) #rows"
      ],
      "metadata": {
        "colab": {
          "base_uri": "https://localhost:8080/"
        },
        "id": "h3iUv0yr502o",
        "outputId": "f84977af-ca6b-499e-f6f1-6df0d26c1dab"
      },
      "execution_count": null,
      "outputs": [
        {
          "output_type": "stream",
          "name": "stdout",
          "text": [
            "[[23 24 25]\n",
            " [26 27 28]\n",
            " [ 4  5  6]\n",
            " [ 7  8  9]]\n",
            "[[23 24 25  4  5  6]\n",
            " [26 27 28  7  8  9]]\n"
          ]
        }
      ]
    },
    {
      "cell_type": "code",
      "source": [
        "a=np.arange(30).reshape(2,3,5) #groups,rows,columns\n",
        "print(a)\n",
        "print(\"Output:\")\n",
        "print(np.dstack(a)) #no. of groups=2 => 2 columns in each group, no. of rows=3 => 3 groups formed"
      ],
      "metadata": {
        "colab": {
          "base_uri": "https://localhost:8080/"
        },
        "id": "d2kHltSa6FCA",
        "outputId": "33d8df3f-386b-498f-f214-6d83513b6453"
      },
      "execution_count": null,
      "outputs": [
        {
          "output_type": "stream",
          "name": "stdout",
          "text": [
            "[[[ 0  1  2  3  4]\n",
            "  [ 5  6  7  8  9]\n",
            "  [10 11 12 13 14]]\n",
            "\n",
            " [[15 16 17 18 19]\n",
            "  [20 21 22 23 24]\n",
            "  [25 26 27 28 29]]]\n",
            "Output:\n",
            "[[[ 0 15]\n",
            "  [ 1 16]\n",
            "  [ 2 17]\n",
            "  [ 3 18]\n",
            "  [ 4 19]]\n",
            "\n",
            " [[ 5 20]\n",
            "  [ 6 21]\n",
            "  [ 7 22]\n",
            "  [ 8 23]\n",
            "  [ 9 24]]\n",
            "\n",
            " [[10 25]\n",
            "  [11 26]\n",
            "  [12 27]\n",
            "  [13 28]\n",
            "  [14 29]]]\n"
          ]
        }
      ]
    },
    {
      "cell_type": "code",
      "source": [],
      "metadata": {
        "id": "F1nQ_XMOE_cH"
      },
      "execution_count": null,
      "outputs": []
    }
  ],
  "metadata": {
    "colab": {
      "provenance": []
    },
    "kernelspec": {
      "display_name": "Python 3",
      "name": "python3"
    },
    "language_info": {
      "name": "python"
    }
  },
  "nbformat": 4,
  "nbformat_minor": 0
}