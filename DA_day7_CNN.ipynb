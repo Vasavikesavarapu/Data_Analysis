{
  "nbformat": 4,
  "nbformat_minor": 0,
  "metadata": {
    "colab": {
      "provenance": []
    },
    "kernelspec": {
      "name": "python3",
      "display_name": "Python 3"
    },
    "language_info": {
      "name": "python"
    }
  },
  "cells": [
    {
      "cell_type": "code",
      "execution_count": 64,
      "metadata": {
        "id": "ONv_XfOfjAty"
      },
      "outputs": [],
      "source": [
        "import tensorflow as tf\n",
        "from tensorflow import keras\n",
        "from tensorflow.keras import layers\n",
        "from tensorflow.keras.preprocessing.image import ImageDataGenerator\n",
        "\n",
        "#define image size and batch size\n",
        "IMG_SIZE=224\n",
        "BATCH_SIZE=32"
      ]
    },
    {
      "cell_type": "code",
      "source": [
        "from google.colab import drive\n",
        "drive.mount('/content/drive')"
      ],
      "metadata": {
        "colab": {
          "base_uri": "https://localhost:8080/"
        },
        "id": "7U4ycingI2Lt",
        "outputId": "d042ebbe-3286-4c2d-831f-a353c4d13eae"
      },
      "execution_count": 65,
      "outputs": [
        {
          "output_type": "stream",
          "name": "stdout",
          "text": [
            "Drive already mounted at /content/drive; to attempt to forcibly remount, call drive.mount(\"/content/drive\", force_remount=True).\n"
          ]
        }
      ]
    },
    {
      "cell_type": "code",
      "source": [
        "#define data generators for train, validation and test sets\n",
        "train_datagen=ImageDataGenerator(rescale=1./255,validation_split=0.2)\n",
        "train_generator=train_datagen.flow_from_directory('/content/drive/MyDrive/brain_tumor/train',\n",
        "                                                  target_size=(IMG_SIZE,IMG_SIZE),\n",
        "                                                  batch_size=BATCH_SIZE,\n",
        "                                                  class_mode='binary',\n",
        "                                                  subset='training')\n",
        "\n",
        "val_generator=train_datagen.flow_from_directory('/content/drive/MyDrive/brain_tumor/train',\n",
        "                                                target_size=(IMG_SIZE,IMG_SIZE),\n",
        "                                                batch_size=BATCH_SIZE,\n",
        "                                                class_mode='binary',\n",
        "                                                subset='validation')\n",
        "\n",
        "test_datagen=ImageDataGenerator(rescale=1./255)\n",
        "test_generator=test_datagen.flow_from_directory('/content/drive/MyDrive/brain_tumor/test',\n",
        "                                                target_size=(IMG_SIZE,IMG_SIZE),\n",
        "                                                batch_size=BATCH_SIZE,\n",
        "                                                class_mode='binary')\n"
      ],
      "metadata": {
        "colab": {
          "base_uri": "https://localhost:8080/"
        },
        "id": "3c9RfJJw8xOi",
        "outputId": "84fec969-ef0b-40a4-a0e6-1100459bcad2"
      },
      "execution_count": 70,
      "outputs": [
        {
          "output_type": "stream",
          "name": "stdout",
          "text": [
            "Found 2408 images belonging to 2 classes.\n",
            "Found 602 images belonging to 2 classes.\n",
            "Found 60 images belonging to 1 classes.\n"
          ]
        }
      ]
    },
    {
      "cell_type": "code",
      "source": [
        "#define the model\n",
        "model=keras.Sequential([\n",
        "    layers.Conv2D(32,(3,3),activation='relu',input_shape=(IMG_SIZE,IMG_SIZE,3)),\n",
        "    layers.MaxPooling2D((2,2)),\n",
        "    layers.Conv2D(64,(3,3),activation='relu'),\n",
        "    layers.MaxPooling2D((2,2)),\n",
        "    layers.Conv2D(128,(3,3),activation='relu'),\n",
        "    layers.MaxPooling2D((2,2)),\n",
        "    layers.Flatten(),\n",
        "    layers.Dense(128,activation='relu'),\n",
        "    layers.Dense(1,activation='sigmoid')\n",
        "])"
      ],
      "metadata": {
        "id": "7Ox_CDyxRKzn"
      },
      "execution_count": 71,
      "outputs": []
    },
    {
      "cell_type": "code",
      "source": [
        "#compile model\n",
        "model.compile(optimizer='adam',loss='binary_crossentropy',metrics=['accuracy'])"
      ],
      "metadata": {
        "id": "RorHPkTaI3Ho"
      },
      "execution_count": 72,
      "outputs": []
    },
    {
      "cell_type": "code",
      "source": [
        "history = model.fit(train_generator,validation_data=val_generator,epochs=1)"
      ],
      "metadata": {
        "colab": {
          "base_uri": "https://localhost:8080/"
        },
        "id": "A035R_K-ncFd",
        "outputId": "6c427931-fb38-4296-dc65-4afc1ac9801f"
      },
      "execution_count": 77,
      "outputs": [
        {
          "output_type": "stream",
          "name": "stdout",
          "text": [
            "76/76 [==============================] - 296s 4s/step - loss: 0.0145 - accuracy: 0.9950 - val_loss: 0.0409 - val_accuracy: 0.9867\n"
          ]
        }
      ]
    },
    {
      "cell_type": "code",
      "source": [
        "model.save(\"model.h5\",\"label.txt\")"
      ],
      "metadata": {
        "id": "CFxsH9v_o2LI"
      },
      "execution_count": 78,
      "outputs": []
    },
    {
      "cell_type": "code",
      "source": [
        "from tensorflow.keras.models import load_model\n",
        "from tensorflow.keras.preprocessing import image\n",
        "import numpy as np\n",
        "\n",
        "#load the saved model\n",
        "model=load_model('/content/model.h5')\n",
        "\n",
        "#load and preprocess the test image\n",
        "test_image_path='/content/drive/MyDrive/brain_tumor/test/pred/pred53.jpg'\n",
        "img=image.load_img(test_image_path,target_size=(224,224))\n",
        "img_array=image.img_to_array(img)\n",
        "img_array=np.expand_dims(img_array,axis=0)   #add batch dimension\n",
        "img_array /=255.  #Normalize the pixel values\n",
        "\n",
        " #make predictions\n",
        "prediction=model.predict(img_array)\n",
        "\n",
        " #print the prediction\n",
        "if prediction <0.5:\n",
        "  print(\"prediction:No tumor (probability:\",prediction[0][0], \")\")\n",
        "else:\n",
        "  print(\"prediction: tumor present (probability:\",prediction[0][0], \")\")\n",
        "\n"
      ],
      "metadata": {
        "colab": {
          "base_uri": "https://localhost:8080/"
        },
        "id": "fq_1iw_SpCru",
        "outputId": "2bdac398-e57e-40d9-d130-e1c41d826ed5"
      },
      "execution_count": 82,
      "outputs": [
        {
          "output_type": "stream",
          "name": "stdout",
          "text": [
            "1/1 [==============================] - 0s 158ms/step\n",
            "prediction:No tumor (probability: 1.1615836e-05 )\n"
          ]
        }
      ]
    }
  ]
}