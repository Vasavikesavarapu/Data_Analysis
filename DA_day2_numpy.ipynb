{
  "nbformat": 4,
  "nbformat_minor": 0,
  "metadata": {
    "colab": {
      "provenance": []
    },
    "kernelspec": {
      "name": "python3",
      "display_name": "Python 3"
    },
    "language_info": {
      "name": "python"
    }
  },
  "cells": [
    {
      "cell_type": "code",
      "source": [
        "import numpy as np"
      ],
      "metadata": {
        "id": "g1MHng7PqMiE"
      },
      "execution_count": null,
      "outputs": []
    },
    {
      "cell_type": "code",
      "execution_count": null,
      "metadata": {
        "colab": {
          "base_uri": "https://localhost:8080/"
        },
        "id": "ypls4g8kpqVb",
        "outputId": "57a5b816-cf86-487a-e958-cfa09451096d"
      },
      "outputs": [
        {
          "output_type": "stream",
          "name": "stdout",
          "text": [
            "[[1. 1. 1. 1. 1. 1. 1. 1.]\n",
            " [1. 1. 1. 1. 1. 1. 1. 1.]\n",
            " [1. 1. 1. 1. 1. 1. 1. 1.]\n",
            " [1. 1. 1. 1. 1. 1. 1. 1.]]\n"
          ]
        }
      ],
      "source": [
        "a=np.ones((4,8))\n",
        "print(a)"
      ]
    },
    {
      "cell_type": "markdown",
      "source": [
        "inside numpy random is subpackage\n",
        "when we have to access subpackage we have to assign package name.subpackage\n",
        "range of rand function is 0-1"
      ],
      "metadata": {
        "id": "OHI66eTVrNQU"
      }
    },
    {
      "cell_type": "code",
      "source": [
        "a=np.random.rand(1)\n",
        "print(a)"
      ],
      "metadata": {
        "colab": {
          "base_uri": "https://localhost:8080/"
        },
        "id": "BcccTXKgsQbW",
        "outputId": "87198a80-b6c6-4126-bbeb-ebd2d921302a"
      },
      "execution_count": null,
      "outputs": [
        {
          "output_type": "stream",
          "name": "stdout",
          "text": [
            "[0.61416485]\n"
          ]
        }
      ]
    },
    {
      "cell_type": "code",
      "source": [
        "a=np.random.rand(8,4)       #to return 8 rows 4 columns\n",
        "print(a)"
      ],
      "metadata": {
        "id": "d1QK_HWVrMKR",
        "colab": {
          "base_uri": "https://localhost:8080/"
        },
        "outputId": "b6005bc2-2f24-464a-f87f-706028124828"
      },
      "execution_count": null,
      "outputs": [
        {
          "output_type": "stream",
          "name": "stdout",
          "text": [
            "[[0.93433303 0.53391377 0.21465164 0.86594388]\n",
            " [0.92321908 0.55346386 0.67062962 0.43202116]\n",
            " [0.15505824 0.19369611 0.62810361 0.83582954]\n",
            " [0.99448691 0.25201506 0.33671444 0.97520452]\n",
            " [0.67265109 0.62490786 0.08307684 0.89804854]\n",
            " [0.12199127 0.86296616 0.83391205 0.59343497]\n",
            " [0.31961844 0.89563866 0.99061707 0.01919016]\n",
            " [0.33937943 0.17872777 0.71091489 0.67995342]]\n"
          ]
        }
      ]
    },
    {
      "cell_type": "code",
      "source": [
        "a=10*np.random.rand(8,4) #returns values btw 0-10\n",
        "print(a)"
      ],
      "metadata": {
        "colab": {
          "base_uri": "https://localhost:8080/"
        },
        "id": "doKcf7reteUb",
        "outputId": "849d59e0-b79f-4c92-f3a1-238aa77f4e2f"
      },
      "execution_count": null,
      "outputs": [
        {
          "output_type": "stream",
          "name": "stdout",
          "text": [
            "[[9.40697016 1.13512218 2.31711389 5.23188308]\n",
            " [3.68216483 3.74073377 0.06615358 2.81885886]\n",
            " [3.53912624 8.16258123 1.1067624  1.33469387]\n",
            " [4.51775803 2.51472768 9.07335807 8.33590053]\n",
            " [8.55439897 7.49695794 3.7650845  3.92876223]\n",
            " [1.49263432 0.98197754 2.36428093 2.14099368]\n",
            " [2.75462491 9.03773102 4.62109381 7.85427448]\n",
            " [1.59905541 6.99528344 6.29385853 4.3080128 ]]\n"
          ]
        }
      ]
    },
    {
      "cell_type": "code",
      "source": [
        "a=np.ceil(10*np.random.rand(8,4)) #floor=min value,ceil=max value\n",
        "print(a)"
      ],
      "metadata": {
        "colab": {
          "base_uri": "https://localhost:8080/"
        },
        "id": "MkeDD3FVty7M",
        "outputId": "f392ad66-c5dd-47f7-c74d-8ef81c4849b1"
      },
      "execution_count": null,
      "outputs": [
        {
          "output_type": "stream",
          "name": "stdout",
          "text": [
            "[[ 9.  8. 10. 10.]\n",
            " [ 8.  4.  6.  9.]\n",
            " [10.  4.  2.  1.]\n",
            " [ 3.  7.  7.  7.]\n",
            " [ 8. 10.  6.  2.]\n",
            " [ 7.  8.  3.  5.]\n",
            " [ 8.  9.  8.  7.]\n",
            " [ 5.  2.  2.  9.]]\n"
          ]
        }
      ]
    },
    {
      "cell_type": "markdown",
      "source": [
        "spliting is 2 types:\n",
        "- vsplit:top to bottom\n",
        "- hsplit:side by side"
      ],
      "metadata": {
        "id": "EXhnzpBruf7b"
      }
    },
    {
      "cell_type": "code",
      "source": [
        "A=np.arange(1,33).reshape(8,4) #for vertical split\n",
        "print(A)"
      ],
      "metadata": {
        "colab": {
          "base_uri": "https://localhost:8080/"
        },
        "id": "yxrFSa9yuyK3",
        "outputId": "5420f3b1-cf1f-46a8-9b46-bf23e1a67065"
      },
      "execution_count": null,
      "outputs": [
        {
          "output_type": "stream",
          "name": "stdout",
          "text": [
            "[[ 1  2  3  4]\n",
            " [ 5  6  7  8]\n",
            " [ 9 10 11 12]\n",
            " [13 14 15 16]\n",
            " [17 18 19 20]\n",
            " [21 22 23 24]\n",
            " [25 26 27 28]\n",
            " [29 30 31 32]]\n"
          ]
        }
      ]
    },
    {
      "cell_type": "code",
      "source": [
        "np.vsplit(A,4) #4 will divide 8 so we are getting 2 rows each for 4 arrays"
      ],
      "metadata": {
        "colab": {
          "base_uri": "https://localhost:8080/"
        },
        "id": "LzGIlRiKvB2s",
        "outputId": "2cf86cbc-44a6-485f-da9e-e6d50e0e4da7"
      },
      "execution_count": null,
      "outputs": [
        {
          "output_type": "execute_result",
          "data": {
            "text/plain": [
              "[array([[1, 2, 3, 4],\n",
              "        [5, 6, 7, 8]]),\n",
              " array([[ 9, 10, 11, 12],\n",
              "        [13, 14, 15, 16]]),\n",
              " array([[17, 18, 19, 20],\n",
              "        [21, 22, 23, 24]]),\n",
              " array([[25, 26, 27, 28],\n",
              "        [29, 30, 31, 32]])]"
            ]
          },
          "metadata": {},
          "execution_count": 25
        }
      ]
    },
    {
      "cell_type": "code",
      "source": [
        "np.vsplit(A,(3,4))  #split it after 3rd row and 4th row"
      ],
      "metadata": {
        "colab": {
          "base_uri": "https://localhost:8080/"
        },
        "id": "PB4daBJ1wslR",
        "outputId": "6d95c057-2ae1-42c9-9eff-ddb87d4555f5"
      },
      "execution_count": null,
      "outputs": [
        {
          "output_type": "execute_result",
          "data": {
            "text/plain": [
              "[array([[ 1,  2,  3,  4],\n",
              "        [ 5,  6,  7,  8],\n",
              "        [ 9, 10, 11, 12]]),\n",
              " array([[13, 14, 15, 16]]),\n",
              " array([[17, 18, 19, 20],\n",
              "        [21, 22, 23, 24],\n",
              "        [25, 26, 27, 28],\n",
              "        [29, 30, 31, 32]])]"
            ]
          },
          "metadata": {},
          "execution_count": 32
        }
      ]
    },
    {
      "cell_type": "code",
      "source": [
        "B=np.arange(1,33).reshape(4,8) #for horizontal split\n",
        "print(B)"
      ],
      "metadata": {
        "colab": {
          "base_uri": "https://localhost:8080/"
        },
        "id": "ejsewRQIyCab",
        "outputId": "34b0fc42-bd14-47bf-b3b0-ba06fc384140"
      },
      "execution_count": null,
      "outputs": [
        {
          "output_type": "stream",
          "name": "stdout",
          "text": [
            "[[ 1  2  3  4  5  6  7  8]\n",
            " [ 9 10 11 12 13 14 15 16]\n",
            " [17 18 19 20 21 22 23 24]\n",
            " [25 26 27 28 29 30 31 32]]\n"
          ]
        }
      ]
    },
    {
      "cell_type": "code",
      "source": [
        "np.hsplit(B,4)   #4 should divide 8 and we have 2 columns for 4 arrays"
      ],
      "metadata": {
        "colab": {
          "base_uri": "https://localhost:8080/"
        },
        "id": "xeYqr7eiyCDB",
        "outputId": "45c782ae-9bdf-4ce3-aebf-c75001ddf28c"
      },
      "execution_count": null,
      "outputs": [
        {
          "output_type": "execute_result",
          "data": {
            "text/plain": [
              "[array([[ 1,  2],\n",
              "        [ 9, 10],\n",
              "        [17, 18],\n",
              "        [25, 26]]),\n",
              " array([[ 3,  4],\n",
              "        [11, 12],\n",
              "        [19, 20],\n",
              "        [27, 28]]),\n",
              " array([[ 5,  6],\n",
              "        [13, 14],\n",
              "        [21, 22],\n",
              "        [29, 30]]),\n",
              " array([[ 7,  8],\n",
              "        [15, 16],\n",
              "        [23, 24],\n",
              "        [31, 32]])]"
            ]
          },
          "metadata": {},
          "execution_count": 35
        }
      ]
    },
    {
      "cell_type": "code",
      "source": [
        "np.hsplit(B,(3,4,5))  # split after 3rd column and 4th column and 5th column"
      ],
      "metadata": {
        "colab": {
          "base_uri": "https://localhost:8080/"
        },
        "id": "E69jSggbzBiS",
        "outputId": "315cc23d-bb65-4cd7-e1bc-828707a7069b"
      },
      "execution_count": null,
      "outputs": [
        {
          "output_type": "execute_result",
          "data": {
            "text/plain": [
              "[array([[ 1,  2,  3],\n",
              "        [ 9, 10, 11],\n",
              "        [17, 18, 19],\n",
              "        [25, 26, 27]]),\n",
              " array([[ 4],\n",
              "        [12],\n",
              "        [20],\n",
              "        [28]]),\n",
              " array([[ 5],\n",
              "        [13],\n",
              "        [21],\n",
              "        [29]]),\n",
              " array([[ 6,  7,  8],\n",
              "        [14, 15, 16],\n",
              "        [22, 23, 24],\n",
              "        [30, 31, 32]])]"
            ]
          },
          "metadata": {},
          "execution_count": 40
        }
      ]
    },
    {
      "cell_type": "markdown",
      "source": [
        "Trigonometry\n",
        "\n"
      ],
      "metadata": {
        "id": "vETgWOVR1pAK"
      }
    },
    {
      "cell_type": "code",
      "source": [
        "np.pi"
      ],
      "metadata": {
        "colab": {
          "base_uri": "https://localhost:8080/"
        },
        "id": "bcyANVjI1rPO",
        "outputId": "1b99de7f-0331-4eae-cbf0-c10ff8387b40"
      },
      "execution_count": null,
      "outputs": [
        {
          "output_type": "execute_result",
          "data": {
            "text/plain": [
              "3.141592653589793"
            ]
          },
          "metadata": {},
          "execution_count": 41
        }
      ]
    },
    {
      "cell_type": "code",
      "source": [
        "a=[np.pi/4,np.pi/3,np.pi/2,np.pi]\n",
        "print(a)"
      ],
      "metadata": {
        "colab": {
          "base_uri": "https://localhost:8080/"
        },
        "id": "HNvUhpRo2VZ8",
        "outputId": "35471347-0fcf-4c13-fc84-560ed4a08e99"
      },
      "execution_count": null,
      "outputs": [
        {
          "output_type": "stream",
          "name": "stdout",
          "text": [
            "[0.7853981633974483, 1.0471975511965976, 1.5707963267948966, 3.141592653589793]\n"
          ]
        }
      ]
    },
    {
      "cell_type": "code",
      "source": [
        "b=np.rad2deg(a)      #convert radians to degree\n",
        "print(b)"
      ],
      "metadata": {
        "colab": {
          "base_uri": "https://localhost:8080/"
        },
        "id": "F9Rbpzwr2m7K",
        "outputId": "e4badfea-f872-4898-fde0-7510ec5c08b2"
      },
      "execution_count": null,
      "outputs": [
        {
          "output_type": "stream",
          "name": "stdout",
          "text": [
            "[ 45.  60.  90. 180.]\n"
          ]
        }
      ]
    },
    {
      "cell_type": "code",
      "source": [
        "c=[ 45.,  60.,  90., 180.]   #converts deg to radians\n",
        "print(np.deg2rad(c))"
      ],
      "metadata": {
        "colab": {
          "base_uri": "https://localhost:8080/"
        },
        "id": "3vGaFuIg22qq",
        "outputId": "bf8f6831-64dc-4e52-a36d-3e9a19654dec"
      },
      "execution_count": null,
      "outputs": [
        {
          "output_type": "stream",
          "name": "stdout",
          "text": [
            "[0.78539816 1.04719755 1.57079633 3.14159265]\n"
          ]
        }
      ]
    },
    {
      "cell_type": "code",
      "source": [
        "a=np.sin(90)\n",
        "print(a)\n",
        "b=np.cos(0)\n",
        "print(b)\n",
        "c=np.tan(1)\n",
        "print(c)"
      ],
      "metadata": {
        "colab": {
          "base_uri": "https://localhost:8080/"
        },
        "id": "RXwSaKdz4Nn_",
        "outputId": "7f80b19f-e772-41ef-98a5-603912a96eb1"
      },
      "execution_count": null,
      "outputs": [
        {
          "output_type": "stream",
          "name": "stdout",
          "text": [
            "0.8939966636005579\n",
            "1.0\n",
            "1.5574077246549023\n"
          ]
        }
      ]
    },
    {
      "cell_type": "markdown",
      "source": [
        "Statistics:\n",
        "- mean: sum of observ/no. of observ\n",
        "- median: after sorting the array middle value is median\n",
        "- standard deviation: difference between n values and mean and sum them and divide the sum with n-1\n",
        "- variance: sd**2"
      ],
      "metadata": {
        "id": "bZretwbQ45bj"
      }
    },
    {
      "cell_type": "code",
      "source": [
        "ar=np.array([23,13,9,6,28,26])\n",
        "a=np.mean(ar)\n",
        "print(a)\n",
        "b=np.median(ar)\n",
        "print(b)\n",
        "c=np.var(ar)\n",
        "print(c)\n",
        "d=np.std(ar)\n",
        "print(d)"
      ],
      "metadata": {
        "colab": {
          "base_uri": "https://localhost:8080/"
        },
        "id": "7ao2URiW4bCf",
        "outputId": "4981b7ec-6c46-4f09-8ca1-882a449bc04b"
      },
      "execution_count": null,
      "outputs": [
        {
          "output_type": "stream",
          "name": "stdout",
          "text": [
            "17.5\n",
            "18.0\n",
            "72.91666666666667\n",
            "8.539125638299666\n"
          ]
        }
      ]
    },
    {
      "cell_type": "markdown",
      "source": [
        "linalg is also subpackage in linalg we have inverse subpackage"
      ],
      "metadata": {
        "id": "0qsfzFbd9Lkn"
      }
    },
    {
      "cell_type": "code",
      "source": [
        "c=np.arange(1,5).reshape(2,2)\n",
        "print(c)"
      ],
      "metadata": {
        "colab": {
          "base_uri": "https://localhost:8080/"
        },
        "id": "dcXEI4cx9czk",
        "outputId": "75df301e-ffe5-4375-af41-fb78baa85210"
      },
      "execution_count": null,
      "outputs": [
        {
          "output_type": "stream",
          "name": "stdout",
          "text": [
            "[[1 2]\n",
            " [3 4]]\n"
          ]
        }
      ]
    },
    {
      "cell_type": "code",
      "source": [
        "np.linalg.inv(c)  #inverse of a matrix"
      ],
      "metadata": {
        "colab": {
          "base_uri": "https://localhost:8080/"
        },
        "id": "cvfLKhIL9WQX",
        "outputId": "f40f68ad-55fa-4d0b-c7d3-5b5492bbf52a"
      },
      "execution_count": null,
      "outputs": [
        {
          "output_type": "execute_result",
          "data": {
            "text/plain": [
              "array([[-2. ,  1. ],\n",
              "       [ 1.5, -0.5]])"
            ]
          },
          "metadata": {},
          "execution_count": 82
        }
      ]
    },
    {
      "cell_type": "code",
      "source": [
        "c=np.arange(1,25).reshape(6,4)\n",
        "print(c)"
      ],
      "metadata": {
        "colab": {
          "base_uri": "https://localhost:8080/"
        },
        "id": "CqTrsMTH-VcV",
        "outputId": "0f549ceb-3598-4133-eb2c-e23ac46bffd7"
      },
      "execution_count": null,
      "outputs": [
        {
          "output_type": "stream",
          "name": "stdout",
          "text": [
            "[[ 1  2  3  4]\n",
            " [ 5  6  7  8]\n",
            " [ 9 10 11 12]\n",
            " [13 14 15 16]\n",
            " [17 18 19 20]\n",
            " [21 22 23 24]]\n"
          ]
        }
      ]
    },
    {
      "cell_type": "code",
      "source": [
        "print(np.argmax(c)) #argmax=returns index position of max value in the array"
      ],
      "metadata": {
        "colab": {
          "base_uri": "https://localhost:8080/"
        },
        "id": "Sqohelo2-kus",
        "outputId": "1e34ed2b-ade5-479d-d829-cb86fde2f047"
      },
      "execution_count": null,
      "outputs": [
        {
          "output_type": "stream",
          "name": "stdout",
          "text": [
            "23\n"
          ]
        }
      ]
    },
    {
      "cell_type": "code",
      "source": [
        "d=np.floor(10*np.random.rand(24)).reshape(6,4)\n",
        "print(d)"
      ],
      "metadata": {
        "colab": {
          "base_uri": "https://localhost:8080/"
        },
        "id": "DAHK7wZr_qHc",
        "outputId": "51bb6c74-dc43-41d3-e49c-f32845775f0b"
      },
      "execution_count": null,
      "outputs": [
        {
          "output_type": "stream",
          "name": "stdout",
          "text": [
            "[[1. 0. 4. 7.]\n",
            " [6. 7. 7. 5.]\n",
            " [4. 7. 2. 9.]\n",
            " [7. 0. 9. 4.]\n",
            " [7. 7. 3. 7.]\n",
            " [1. 3. 2. 4.]]\n"
          ]
        }
      ]
    },
    {
      "cell_type": "code",
      "source": [
        "print(np.argmax(d))"
      ],
      "metadata": {
        "colab": {
          "base_uri": "https://localhost:8080/"
        },
        "id": "bap5EV0Z_sT8",
        "outputId": "665483de-b148-4716-c105-e8f8e97790bb"
      },
      "execution_count": null,
      "outputs": [
        {
          "output_type": "stream",
          "name": "stdout",
          "text": [
            "11\n"
          ]
        }
      ]
    },
    {
      "cell_type": "code",
      "source": [
        "d=10*np.random.rand(24).reshape(6,4)\n",
        "print(d)"
      ],
      "metadata": {
        "colab": {
          "base_uri": "https://localhost:8080/"
        },
        "id": "RC226nND_yPe",
        "outputId": "21c190fe-369c-4297-b0bd-1cd2635737a0"
      },
      "execution_count": null,
      "outputs": [
        {
          "output_type": "stream",
          "name": "stdout",
          "text": [
            "[[2.77018345 8.49919484 2.11128424 3.55558174]\n",
            " [9.08639892 8.77191963 0.31168096 5.33982317]\n",
            " [4.11690054 6.34883831 2.51194345 8.0748807 ]\n",
            " [9.64406709 1.49927088 9.16440803 0.88408508]\n",
            " [6.7473124  3.36862755 3.23085361 7.77078445]\n",
            " [3.26114597 4.9444712  5.65359818 2.11846695]]\n"
          ]
        }
      ]
    },
    {
      "cell_type": "code",
      "source": [
        "print(np.argmax(d,axis=0)) #returns each column index position of max value"
      ],
      "metadata": {
        "colab": {
          "base_uri": "https://localhost:8080/"
        },
        "id": "UR6sUlth_2qL",
        "outputId": "69e4cffe-4576-4b2d-a2bd-e3fe48eabe27"
      },
      "execution_count": null,
      "outputs": [
        {
          "output_type": "stream",
          "name": "stdout",
          "text": [
            "[3 1 3 2]\n"
          ]
        }
      ]
    },
    {
      "cell_type": "code",
      "source": [
        "print(np.argmax(d,axis=1))   #returns each row index position of max value"
      ],
      "metadata": {
        "colab": {
          "base_uri": "https://localhost:8080/"
        },
        "id": "cHukL1WbCyUl",
        "outputId": "ea0158b8-8b02-4bc3-9e01-d721ee01b7b9"
      },
      "execution_count": null,
      "outputs": [
        {
          "output_type": "stream",
          "name": "stdout",
          "text": [
            "[1 0 3 0 3 2]\n"
          ]
        }
      ]
    },
    {
      "cell_type": "code",
      "source": [
        "print(np.argmin(d))          #returns min value in the array"
      ],
      "metadata": {
        "colab": {
          "base_uri": "https://localhost:8080/"
        },
        "id": "LL16hJcwC01D",
        "outputId": "cf9d8491-47b7-4ea8-d3a3-ad82ef20b424"
      },
      "execution_count": null,
      "outputs": [
        {
          "output_type": "stream",
          "name": "stdout",
          "text": [
            "6\n"
          ]
        }
      ]
    },
    {
      "cell_type": "code",
      "source": [
        "print(np.argmin(d,axis=0))"
      ],
      "metadata": {
        "colab": {
          "base_uri": "https://localhost:8080/"
        },
        "id": "kcRlK75pDNti",
        "outputId": "c4025c79-603a-4c5b-fbcf-23de002f1173"
      },
      "execution_count": null,
      "outputs": [
        {
          "output_type": "stream",
          "name": "stdout",
          "text": [
            "[0 3 1 3]\n"
          ]
        }
      ]
    },
    {
      "cell_type": "code",
      "source": [
        "print(np.argmin(d,axis=1))"
      ],
      "metadata": {
        "colab": {
          "base_uri": "https://localhost:8080/"
        },
        "id": "O7lrbQOIDUDs",
        "outputId": "b665dac5-b37b-4683-8330-a79878e323f5"
      },
      "execution_count": null,
      "outputs": [
        {
          "output_type": "stream",
          "name": "stdout",
          "text": [
            "[2 2 2 3 2 3]\n"
          ]
        }
      ]
    },
    {
      "cell_type": "markdown",
      "source": [
        "Searching"
      ],
      "metadata": {
        "id": "CGleR-MtDvnO"
      }
    },
    {
      "cell_type": "code",
      "source": [
        "a=np.array([1,  2,  3,  4, 5,  6,  7,  8])\n",
        "print(np.where(a%2==0))"
      ],
      "metadata": {
        "colab": {
          "base_uri": "https://localhost:8080/"
        },
        "id": "tAewNlNSDlQ9",
        "outputId": "65627e04-8852-4b9d-911b-78298cacc209"
      },
      "execution_count": null,
      "outputs": [
        {
          "output_type": "stream",
          "name": "stdout",
          "text": [
            "(array([], dtype=int64),)\n"
          ]
        }
      ]
    },
    {
      "cell_type": "code",
      "source": [
        "a=np.array([24,16,7,17,54,60])\n",
        "print(np.where(a%6==0))"
      ],
      "metadata": {
        "colab": {
          "base_uri": "https://localhost:8080/"
        },
        "id": "w-xMGJ4NFFMF",
        "outputId": "192676fd-aaa7-4f11-d139-0123c39e2c74"
      },
      "execution_count": null,
      "outputs": [
        {
          "output_type": "stream",
          "name": "stdout",
          "text": [
            "(array([0, 4, 5]),)\n"
          ]
        }
      ]
    },
    {
      "cell_type": "code",
      "source": [
        "#used for only sorted array\n",
        "a=np.array([1,2,3,7,8,9])\n",
        "x=np.searchsorted(a,2)\n",
        "print(x)"
      ],
      "metadata": {
        "colab": {
          "base_uri": "https://localhost:8080/"
        },
        "id": "g2SZbb4PFz2d",
        "outputId": "567ad0a9-c261-45e4-fb82-cdb94955940b"
      },
      "execution_count": null,
      "outputs": [
        {
          "output_type": "stream",
          "name": "stdout",
          "text": [
            "1\n"
          ]
        }
      ]
    },
    {
      "cell_type": "code",
      "source": [
        "a=np.array([24,16,7,17,54,60]) #not applicable for unsorted\n",
        "x=np.searchsorted(a,17)   #7,16,17,24,54,60\n",
        "print(x)"
      ],
      "metadata": {
        "colab": {
          "base_uri": "https://localhost:8080/"
        },
        "id": "0-E42bI9FyeN",
        "outputId": "146870b7-12bf-4e47-abcf-e75b18df649e"
      },
      "execution_count": null,
      "outputs": [
        {
          "output_type": "stream",
          "name": "stdout",
          "text": [
            "3\n"
          ]
        }
      ]
    },
    {
      "cell_type": "code",
      "source": [
        "#sorting array\n",
        "a=np.array([24,16,7,17,54,60])                              #numerical,1D\n",
        "d=np.array([[24,16,7],[17,54,60]])                          #2D\n",
        "b=np.array(['apple','cherry','banana'])                     #string\n",
        "c=np.array([True,True,False])                               #boolean\n",
        "print(np.sort(a))\n",
        "print(np.sort(b))\n",
        "print(np.sort(c))\n",
        "print(np.sort(d))"
      ],
      "metadata": {
        "colab": {
          "base_uri": "https://localhost:8080/"
        },
        "id": "-6uuXum9HNsT",
        "outputId": "6f0aef8e-4bd6-4a0b-f8de-a5e8b75a67c2"
      },
      "execution_count": null,
      "outputs": [
        {
          "output_type": "stream",
          "name": "stdout",
          "text": [
            "[ 7 16 17 24 54 60]\n",
            "['apple' 'banana' 'cherry']\n",
            "[False  True  True]\n",
            "[[ 7 16 24]\n",
            " [17 54 60]]\n"
          ]
        }
      ]
    },
    {
      "cell_type": "markdown",
      "source": [
        "Filter:"
      ],
      "metadata": {
        "id": "frtm5BW_K9yj"
      }
    },
    {
      "cell_type": "code",
      "source": [
        "a=np.array([40,43,40,44,67,78])\n",
        "filt=np.where(a%2==0)\n",
        "print(filt)"
      ],
      "metadata": {
        "colab": {
          "base_uri": "https://localhost:8080/"
        },
        "id": "zW7QlrwdIRcp",
        "outputId": "bf40f515-0809-4da1-9b19-db8c0410c8c2"
      },
      "execution_count": null,
      "outputs": [
        {
          "output_type": "stream",
          "name": "stdout",
          "text": [
            "(array([0, 2, 3, 5]),)\n"
          ]
        }
      ]
    },
    {
      "cell_type": "code",
      "source": [
        "a[filt]"
      ],
      "metadata": {
        "colab": {
          "base_uri": "https://localhost:8080/"
        },
        "id": "LMSSOf8RK5N6",
        "outputId": "00ad16d5-0574-4e26-c372-9b1e5ad2ef10"
      },
      "execution_count": null,
      "outputs": [
        {
          "output_type": "execute_result",
          "data": {
            "text/plain": [
              "array([40, 40, 44, 78])"
            ]
          },
          "metadata": {},
          "execution_count": 127
        }
      ]
    },
    {
      "cell_type": "code",
      "source": [
        "#zip is used to join two arrays,lists\n",
        "names=np.array([\"jwalitha\",\"vasavi\",\"pavan\",\"harsha\"])\n",
        "initials=np.array([\"k\",\"k\",\"k\",\"k\"])\n",
        "for i,j in zip(initials,names):\n",
        "  print(i,\".\",j)"
      ],
      "metadata": {
        "colab": {
          "base_uri": "https://localhost:8080/"
        },
        "id": "jmjq17r4Lqn6",
        "outputId": "612bb697-b726-4516-df5f-60771677561e"
      },
      "execution_count": null,
      "outputs": [
        {
          "output_type": "stream",
          "name": "stdout",
          "text": [
            "k . jwalitha\n",
            "k . vasavi\n",
            "k . pavan\n",
            "k . harsha\n"
          ]
        }
      ]
    },
    {
      "cell_type": "code",
      "source": [
        "a=np.array([14,15,16,17,18])\n",
        "b=np.array([25,26,27,28,29])\n",
        "m=np.multiply(a,b)\n",
        "print(m)\n",
        "n=np.divide(a,b)\n",
        "print(n)\n",
        "o=np.mod(a,b)\n",
        "print(o)\n",
        "p=np.divmod(a,b)\n",
        "print(p)"
      ],
      "metadata": {
        "colab": {
          "base_uri": "https://localhost:8080/"
        },
        "id": "ERaV924xQZSN",
        "outputId": "2d8a9375-7d01-4cec-dec5-c4f71a45d08c"
      },
      "execution_count": null,
      "outputs": [
        {
          "output_type": "stream",
          "name": "stdout",
          "text": [
            "[350 390 432 476 522]\n",
            "[0.56       0.57692308 0.59259259 0.60714286 0.62068966]\n",
            "[14 15 16 17 18]\n",
            "(array([0, 0, 0, 0, 0]), array([14, 15, 16, 17, 18]))\n"
          ]
        }
      ]
    },
    {
      "cell_type": "markdown",
      "source": [
        "Logarithms"
      ],
      "metadata": {
        "id": "nN5OeoXESV2Y"
      }
    },
    {
      "cell_type": "code",
      "source": [
        "a=np.arange(1,10)\n",
        "print(a)\n",
        "print(np.log2(a))        #log a base2\n",
        "print(np.log10(a))       #log a base10\n",
        "print(np.log(a))         #natural log a"
      ],
      "metadata": {
        "colab": {
          "base_uri": "https://localhost:8080/"
        },
        "id": "eL2aE5vxSXNM",
        "outputId": "4af35ac6-6b7f-415f-b142-d1d3c9299dc5"
      },
      "execution_count": null,
      "outputs": [
        {
          "output_type": "stream",
          "name": "stdout",
          "text": [
            "[1 2 3 4 5 6 7 8 9]\n",
            "[0.         1.         1.5849625  2.         2.32192809 2.5849625\n",
            " 2.80735492 3.         3.169925  ]\n",
            "[0.         0.30103    0.47712125 0.60205999 0.69897    0.77815125\n",
            " 0.84509804 0.90308999 0.95424251]\n",
            "[0.         0.69314718 1.09861229 1.38629436 1.60943791 1.79175947\n",
            " 1.94591015 2.07944154 2.19722458]\n"
          ]
        }
      ]
    },
    {
      "cell_type": "markdown",
      "source": [
        "CUMMULATIVE FUNCTIONS\n",
        "- cummulative sum\n",
        "- cummulative product"
      ],
      "metadata": {
        "id": "cuG_9cLdU8RH"
      }
    },
    {
      "cell_type": "code",
      "source": [
        "a=np.array([13,14,15,16,17])\n",
        "x=np.cumsum(a)\n",
        "print(x)\n",
        "y=np.cumprod(a)\n",
        "print(y)"
      ],
      "metadata": {
        "colab": {
          "base_uri": "https://localhost:8080/"
        },
        "id": "u-vyzeJcUvdJ",
        "outputId": "bffc04b1-9083-4c71-9778-73cc87a40f8d"
      },
      "execution_count": null,
      "outputs": [
        {
          "output_type": "stream",
          "name": "stdout",
          "text": [
            "[13 27 42 58 75]\n",
            "[    13    182   2730  43680 742560]\n"
          ]
        }
      ]
    },
    {
      "cell_type": "code",
      "source": [
        "#difference\n",
        "a=np.array([20,13,45,60])      #e2-e1\n",
        "x=np.diff(a)\n",
        "print(x)"
      ],
      "metadata": {
        "colab": {
          "base_uri": "https://localhost:8080/"
        },
        "id": "2v80-GwlUvJw",
        "outputId": "2d3bae81-5b25-47da-c4e7-b6ad4fb155af"
      },
      "execution_count": null,
      "outputs": [
        {
          "output_type": "stream",
          "name": "stdout",
          "text": [
            "[-7 32 15]\n"
          ]
        }
      ]
    },
    {
      "cell_type": "code",
      "source": [
        "#lcm\n",
        "a=455\n",
        "b=665\n",
        "x=np.lcm(a,b)\n",
        "print(x)"
      ],
      "metadata": {
        "colab": {
          "base_uri": "https://localhost:8080/"
        },
        "id": "lZbjoSxCWADX",
        "outputId": "86160ce9-bcb9-45dc-9c9a-df80ccda2220"
      },
      "execution_count": null,
      "outputs": [
        {
          "output_type": "stream",
          "name": "stdout",
          "text": [
            "8645\n"
          ]
        }
      ]
    },
    {
      "cell_type": "code",
      "source": [
        "#gcd\n",
        "a=455\n",
        "b=665\n",
        "x=np.gcd(a,b)\n",
        "print(x)"
      ],
      "metadata": {
        "colab": {
          "base_uri": "https://localhost:8080/"
        },
        "id": "rss0EEQoXyyG",
        "outputId": "8b079528-d906-4496-8eb3-a93110a71223"
      },
      "execution_count": null,
      "outputs": [
        {
          "output_type": "stream",
          "name": "stdout",
          "text": [
            "35\n"
          ]
        }
      ]
    },
    {
      "cell_type": "code",
      "source": [
        "#gcd\n",
        "a=np.array([455,665])\n",
        "x=np.gcd.reduce(a)       #reduce is used for taking multiple inputs and gives single output\n",
        "print(x)\n"
      ],
      "metadata": {
        "colab": {
          "base_uri": "https://localhost:8080/"
        },
        "id": "mHnCLHhOWRIS",
        "outputId": "3563abac-855e-4cfb-bd4b-3935da04fb2a"
      },
      "execution_count": null,
      "outputs": [
        {
          "output_type": "stream",
          "name": "stdout",
          "text": [
            "35\n"
          ]
        }
      ]
    },
    {
      "cell_type": "code",
      "source": [
        "#lcm\n",
        "a=np.array([455,665])\n",
        "x=np.lcm.reduce(a)       #reduce is used for taking multiple inputs and gives single output\n",
        "print(x)\n"
      ],
      "metadata": {
        "colab": {
          "base_uri": "https://localhost:8080/"
        },
        "id": "GDdSRiY_XbeU",
        "outputId": "2ef32467-9e05-402c-8fac-86dead53aa08"
      },
      "execution_count": null,
      "outputs": [
        {
          "output_type": "stream",
          "name": "stdout",
          "text": [
            "8645\n"
          ]
        }
      ]
    }
  ]
}