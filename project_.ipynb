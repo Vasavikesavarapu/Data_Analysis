{
  "nbformat": 4,
  "nbformat_minor": 0,
  "metadata": {
    "colab": {
      "provenance": []
    },
    "kernelspec": {
      "name": "python3",
      "display_name": "Python 3"
    },
    "language_info": {
      "name": "python"
    }
  },
  "cells": [
    {
      "cell_type": "code",
      "execution_count": 2,
      "metadata": {
        "colab": {
          "base_uri": "https://localhost:8080/"
        },
        "id": "fe9xS3CxD2xA",
        "outputId": "1f258ca1-f02c-49e6-f424-8ee664c72c76"
      },
      "outputs": [
        {
          "output_type": "stream",
          "name": "stdout",
          "text": [
            "Enter the text to translate: hi\n",
            "Enter the language to be translated: hindi\n",
            "The given text is translated to  hindi\n",
            "The translated word is नमस्ते\n"
          ]
        }
      ],
      "source": [
        "import requests\n",
        "\n",
        "url = \"https://text-translator2.p.rapidapi.com/translate\"\n",
        "\n",
        "# Prompt the user to enter the input text\n",
        "text_to_translate = input(\"Enter the text to translate: \")\n",
        "la = input(\"Enter the language to be translated: \")\n",
        "\n",
        "payload = {\n",
        "    \"source_language\": \"en\",\n",
        "    \"target_language\": la[0:2],\n",
        "    \"text\": text_to_translate\n",
        "}\n",
        "headers = {\n",
        "    \"content-type\": \"application/x-www-form-urlencoded\",\n",
        "    \"X-RapidAPI-Key\": \"67ae229bc5mshe5bb4b7bc5b8845p192045jsn0ea6e229b5ed\",\n",
        "    \"X-RapidAPI-Host\": \"text-translator2.p.rapidapi.com\"\n",
        "}\n",
        "\n",
        "response = requests.post(url, data=payload, headers=headers)\n",
        "\n",
        "res = response.json()\n",
        "\n",
        "print(\"The given text is translated to \",la)\n",
        "print(\"The translated word is\",res['data']['translatedText'])"
      ]
    }
  ]
}