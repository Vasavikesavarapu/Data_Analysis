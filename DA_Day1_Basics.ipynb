{
  "nbformat": 4,
  "nbformat_minor": 0,
  "metadata": {
    "colab": {
      "provenance": []
    },
    "kernelspec": {
      "name": "python3",
      "display_name": "Python 3"
    },
    "language_info": {
      "name": "python"
    }
  },
  "cells": [
    {
      "cell_type": "code",
      "execution_count": null,
      "metadata": {
        "colab": {
          "base_uri": "https://localhost:8080/"
        },
        "id": "b758pMIFoyJM",
        "outputId": "f916445e-752a-470f-c9a0-0f1502c550be"
      },
      "outputs": [
        {
          "output_type": "stream",
          "name": "stdout",
          "text": [
            "Iam 5 years old\n"
          ]
        }
      ],
      "source": [
        "a=5\n",
        "print(\"Iam\",a,\"years old\")"
      ]
    },
    {
      "cell_type": "markdown",
      "source": [
        "Operators"
      ],
      "metadata": {
        "id": "fB5Ah22EqEIf"
      }
    },
    {
      "cell_type": "code",
      "source": [
        "#Airthmetic\n",
        "a=5\n",
        "b=25\n",
        "print(a+b)\n",
        "print(b//a)\n",
        "print(b**a)"
      ],
      "metadata": {
        "colab": {
          "base_uri": "https://localhost:8080/"
        },
        "id": "KyY9_-zlqBZi",
        "outputId": "bf4ec0c4-7435-4ea1-dcbf-7b3e696e3218"
      },
      "execution_count": null,
      "outputs": [
        {
          "output_type": "stream",
          "name": "stdout",
          "text": [
            "30\n",
            "5\n",
            "9765625\n"
          ]
        }
      ]
    },
    {
      "cell_type": "code",
      "source": [
        "#Power\n",
        "print(2**5)\n"
      ],
      "metadata": {
        "colab": {
          "base_uri": "https://localhost:8080/"
        },
        "id": "T9skjeH3qSzC",
        "outputId": "794934bd-bcd8-4a0f-a884-8dab6393bb1d"
      },
      "execution_count": null,
      "outputs": [
        {
          "output_type": "stream",
          "name": "stdout",
          "text": [
            "32\n"
          ]
        }
      ]
    },
    {
      "cell_type": "code",
      "source": [
        "#relational\n",
        "a=6\n",
        "b=6\n",
        "print(a==b)\n",
        "print(a>b)\n",
        "print(a<b)\n",
        "print(a<=b)\n",
        "print(a>=b)\n",
        "print(a!=b)"
      ],
      "metadata": {
        "colab": {
          "base_uri": "https://localhost:8080/"
        },
        "id": "ST7ho1dDqojV",
        "outputId": "c48302f8-da57-4e16-e5ef-100c14bd6a14"
      },
      "execution_count": null,
      "outputs": [
        {
          "output_type": "stream",
          "name": "stdout",
          "text": [
            "True\n",
            "False\n",
            "False\n",
            "True\n",
            "True\n",
            "False\n"
          ]
        }
      ]
    },
    {
      "cell_type": "code",
      "source": [
        "#logical\n",
        "a=9\n",
        "b=25\n",
        "print((a>b)and(a<b)) #false and true\n",
        "print((a>b)or(a<b)) #false or true\n",
        "print(not((a>b)and(a<b)))#not(false)\n"
      ],
      "metadata": {
        "colab": {
          "base_uri": "https://localhost:8080/"
        },
        "id": "x-YxCl6MrzUo",
        "outputId": "11692029-206d-4dd2-b390-0396da44ca24"
      },
      "execution_count": null,
      "outputs": [
        {
          "output_type": "stream",
          "name": "stdout",
          "text": [
            "False\n",
            "True\n",
            "True\n"
          ]
        }
      ]
    },
    {
      "cell_type": "code",
      "source": [
        "#membership\n",
        "a=\"army\"\n",
        "print(\"a\" not in a)\n",
        "print(\"a\" in a)\n"
      ],
      "metadata": {
        "colab": {
          "base_uri": "https://localhost:8080/"
        },
        "id": "iZDvNRf3rcUe",
        "outputId": "c1be7737-f223-40fa-dec0-1bfef806a011"
      },
      "execution_count": null,
      "outputs": [
        {
          "output_type": "stream",
          "name": "stdout",
          "text": [
            "False\n",
            "True\n"
          ]
        }
      ]
    },
    {
      "cell_type": "markdown",
      "source": [
        "Looping Statements"
      ],
      "metadata": {
        "id": "Rl_kJCPcvbEw"
      }
    },
    {
      "cell_type": "code",
      "source": [
        "#for\n",
        "n=int(input(\"enter a number:\"))\n",
        "for i in range(1,6):\n",
        "  a=n*i\n",
        "  print(a)"
      ],
      "metadata": {
        "colab": {
          "base_uri": "https://localhost:8080/"
        },
        "id": "lSmnfxSfs9Ff",
        "outputId": "e0e388b9-422a-4f7f-b4f2-6060d61f88b9"
      },
      "execution_count": null,
      "outputs": [
        {
          "output_type": "stream",
          "name": "stdout",
          "text": [
            "enter a number:6\n",
            "6\n",
            "12\n",
            "18\n",
            "24\n",
            "30\n"
          ]
        }
      ]
    },
    {
      "cell_type": "code",
      "source": [
        "#while\n",
        "n=int(input(\"enter a value:\"))\n",
        "a=int(input(\"enter the no. of steps:\"))\n",
        "i=1\n",
        "while(i<=a):\n",
        "  b=n*i\n",
        "  i=i+1\n",
        "  print(b)\n",
        "\n"
      ],
      "metadata": {
        "colab": {
          "base_uri": "https://localhost:8080/"
        },
        "id": "Gfw5yuFf4css",
        "outputId": "06094943-fe0b-4bc9-92af-a7e442ac7543"
      },
      "execution_count": null,
      "outputs": [
        {
          "output_type": "stream",
          "name": "stdout",
          "text": [
            "enter a value:6\n",
            "enter the no. of steps:4\n",
            "6\n",
            "12\n",
            "18\n",
            "24\n"
          ]
        }
      ]
    },
    {
      "cell_type": "markdown",
      "source": [
        "control flow"
      ],
      "metadata": {
        "id": "X5HNk18GtT4t"
      }
    },
    {
      "cell_type": "code",
      "source": [
        "#conditional if\n",
        "a=6\n",
        "b=12\n",
        "if(a!=b):\n",
        "  print(\"true\")"
      ],
      "metadata": {
        "colab": {
          "base_uri": "https://localhost:8080/"
        },
        "id": "CfQvmJqwtX0Z",
        "outputId": "8ef76d6e-d6b7-4378-afba-0b6f3f32abd2"
      },
      "execution_count": null,
      "outputs": [
        {
          "output_type": "stream",
          "name": "stdout",
          "text": [
            "true\n"
          ]
        }
      ]
    },
    {
      "cell_type": "code",
      "source": [
        "#check whether given number is positive or negative\n",
        "a=int(input(\"enter a value:\"))\n",
        "if(a>0):\n",
        "  print(a, \"is positive\")\n",
        "else:\n",
        "  print(a, \"is negative\")"
      ],
      "metadata": {
        "colab": {
          "base_uri": "https://localhost:8080/"
        },
        "id": "lnInrcGGwLec",
        "outputId": "d1530872-561e-4445-8ca5-20fe6ff0b63c"
      },
      "execution_count": null,
      "outputs": [
        {
          "output_type": "stream",
          "name": "stdout",
          "text": [
            "enter a value:42\n",
            "42 is positive\n"
          ]
        }
      ]
    },
    {
      "cell_type": "code",
      "source": [
        "#check whether given number is positive or negative\n",
        "a=int(input(\"enter a value:\"))\n",
        "if(a>0):\n",
        "  print(a, \"is positive\")\n",
        "elif(a==0):\n",
        "  print(a, \"is neither positive nor negative\")\n",
        "else:\n",
        "  print(a,\"is negative\")"
      ],
      "metadata": {
        "colab": {
          "base_uri": "https://localhost:8080/"
        },
        "id": "bJcHayDjwsAN",
        "outputId": "6ca20910-2380-4cfd-d222-a2acf87c0faa"
      },
      "execution_count": null,
      "outputs": [
        {
          "output_type": "stream",
          "name": "stdout",
          "text": [
            "enter a value:0\n",
            "0 is neither positive nor negative\n"
          ]
        }
      ]
    },
    {
      "cell_type": "markdown",
      "source": [
        "knowing type of the value"
      ],
      "metadata": {
        "id": "UYueFVGLveOd"
      }
    },
    {
      "cell_type": "code",
      "source": [
        "a=int(input(\"enter a number:\"))\n",
        "print(type(a))\n"
      ],
      "metadata": {
        "colab": {
          "base_uri": "https://localhost:8080/"
        },
        "id": "G61H8lXyu2YA",
        "outputId": "f82ef9fb-05e9-470c-c327-be65026b0881"
      },
      "execution_count": null,
      "outputs": [
        {
          "output_type": "stream",
          "name": "stdout",
          "text": [
            "enter a number:0\n",
            "<class 'int'>\n"
          ]
        }
      ]
    },
    {
      "cell_type": "markdown",
      "source": [
        "type conversion:implicit,explicit"
      ],
      "metadata": {
        "id": "G9DiZIMIUYJp"
      }
    },
    {
      "cell_type": "code",
      "source": [
        "#implicit\n",
        "x = 10\n",
        "print(\"x is of type:\",type(x))\n",
        "y = 10.6\n",
        "print(\"y is of type:\",type(y))\n",
        "z = x + y\n",
        "print(z)\n",
        "print(\"z is of type:\",type(z))"
      ],
      "metadata": {
        "colab": {
          "base_uri": "https://localhost:8080/"
        },
        "id": "Xv4M1gBnUWmR",
        "outputId": "35565610-dcd5-44a2-a634-1b90d642a484"
      },
      "execution_count": null,
      "outputs": [
        {
          "output_type": "stream",
          "name": "stdout",
          "text": [
            "x is of type: <class 'int'>\n",
            "y is of type: <class 'float'>\n",
            "20.6\n",
            "z is of type: <class 'float'>\n"
          ]
        }
      ]
    },
    {
      "cell_type": "code",
      "source": [
        "#explicit\n",
        "num_string = '12'\n",
        "num_integer = 23\n",
        "print(\"Data type of num_string before Type Casting:\",type(num_string))\n",
        "num_string = int(num_string)\n",
        "print(\"Data type of num_string after Type Casting:\",type(num_string))\n",
        "num_sum = num_integer + num_string\n",
        "print(\"Sum:\",num_sum)\n",
        "print(\"Data type of num_sum:\",type(num_sum))"
      ],
      "metadata": {
        "colab": {
          "base_uri": "https://localhost:8080/"
        },
        "id": "RsYvkeMDVcyc",
        "outputId": "5c31f467-389b-41e9-f981-018f027057b9"
      },
      "execution_count": null,
      "outputs": [
        {
          "output_type": "stream",
          "name": "stdout",
          "text": [
            "Data type of num_string before Type Casting: <class 'str'>\n",
            "Data type of num_string after Type Casting: <class 'int'>\n",
            "Sum: 35\n",
            "Data type of num_sum: <class 'int'>\n"
          ]
        }
      ]
    },
    {
      "cell_type": "markdown",
      "source": [],
      "metadata": {
        "id": "GFsMNTMKvh_Y"
      }
    },
    {
      "cell_type": "markdown",
      "source": [
        "Data slicing"
      ],
      "metadata": {
        "id": "nmnkqg-G3F81"
      }
    },
    {
      "cell_type": "code",
      "source": [
        "a=\"python is easy\"\n",
        "print(a[::-1])\n",
        "print(a[::2])"
      ],
      "metadata": {
        "colab": {
          "base_uri": "https://localhost:8080/"
        },
        "id": "WSh1kBjE3Zpr",
        "outputId": "dcd72564-2070-40ed-d02c-ea2c3a95097b"
      },
      "execution_count": null,
      "outputs": [
        {
          "output_type": "stream",
          "name": "stdout",
          "text": [
            "ysae si nohtyp\n",
            "pto ses\n"
          ]
        }
      ]
    },
    {
      "cell_type": "markdown",
      "source": [
        "Type Casting"
      ],
      "metadata": {
        "id": "IReke8P962JR"
      }
    },
    {
      "cell_type": "code",
      "source": [],
      "metadata": {
        "id": "QRJnsMLq64mM"
      },
      "execution_count": null,
      "outputs": []
    },
    {
      "cell_type": "markdown",
      "source": [
        "Collections:set,tuple,dictionary,list\n",
        "list:\n",
        "- collection of elements\n",
        "- heterogenous\n",
        "- append\n",
        "- mutable(modifiable)\n"
      ],
      "metadata": {
        "id": "7dA2P1Xt66B5"
      }
    },
    {
      "cell_type": "code",
      "source": [
        "b = [34,\"killer\",90.8,45]\n",
        "for i in b:\n",
        "  print(i)"
      ],
      "metadata": {
        "colab": {
          "base_uri": "https://localhost:8080/"
        },
        "id": "RZmM6_wl7D5c",
        "outputId": "4e9caa65-5c0b-4304-884a-28ea69929299"
      },
      "execution_count": null,
      "outputs": [
        {
          "output_type": "stream",
          "name": "stdout",
          "text": [
            "34\n",
            "killer\n",
            "90.8\n",
            "45\n"
          ]
        }
      ]
    },
    {
      "cell_type": "code",
      "source": [
        "a=[9,4,\"vasavi\",13.06]\n",
        "for i in a:\n",
        "  print(i)"
      ],
      "metadata": {
        "colab": {
          "base_uri": "https://localhost:8080/"
        },
        "id": "hhhyfzwC9Fwb",
        "outputId": "740e0b49-d7ff-4cb3-db0c-8acc24112256"
      },
      "execution_count": null,
      "outputs": [
        {
          "output_type": "stream",
          "name": "stdout",
          "text": [
            "9\n",
            "4\n",
            "vasavi\n",
            "13.06\n"
          ]
        }
      ]
    },
    {
      "cell_type": "code",
      "source": [
        "a=[94,\"vasavi\",13.06]\n",
        "a.append(8)\n",
        "print(a)"
      ],
      "metadata": {
        "colab": {
          "base_uri": "https://localhost:8080/"
        },
        "id": "nsDgMypK-Tj3",
        "outputId": "38a1cb7e-0b24-4c18-90be-d3aec4181132"
      },
      "execution_count": null,
      "outputs": [
        {
          "output_type": "stream",
          "name": "stdout",
          "text": [
            "[94, 'vasavi', 13.06, 8]\n"
          ]
        }
      ]
    },
    {
      "cell_type": "code",
      "source": [
        "a=[94,\"vasavi\",13.06,8]\n",
        "a.insert(2,\"hi\")\n",
        "a.insert(3,\"hello\")\n",
        "print(a)"
      ],
      "metadata": {
        "colab": {
          "base_uri": "https://localhost:8080/"
        },
        "id": "ADuiYJBS_Ar0",
        "outputId": "1bf2de62-469c-4be1-c005-3eff47c5f4aa"
      },
      "execution_count": null,
      "outputs": [
        {
          "output_type": "stream",
          "name": "stdout",
          "text": [
            "[94, 'vasavi', 'hi', 'hello', 13.06, 8]\n"
          ]
        }
      ]
    },
    {
      "cell_type": "code",
      "source": [
        "a.extend(b)\n",
        "print(a)"
      ],
      "metadata": {
        "colab": {
          "base_uri": "https://localhost:8080/"
        },
        "id": "nNQm-DBo_yiW",
        "outputId": "9a13e5e0-b224-4945-8720-d162504c54eb"
      },
      "execution_count": null,
      "outputs": [
        {
          "output_type": "stream",
          "name": "stdout",
          "text": [
            "[94, 'vasavi', 'hi', 'hello', 13.06, 8, 34, 'killer', 90.8, 45]\n"
          ]
        }
      ]
    },
    {
      "cell_type": "code",
      "source": [
        "a=[94,\"vasavi\",13.06,8]\n",
        "a.pop(2)\n",
        "print(a)"
      ],
      "metadata": {
        "colab": {
          "base_uri": "https://localhost:8080/"
        },
        "id": "9Ix__bhWA8xB",
        "outputId": "833b4d88-5e00-4576-f050-531a0d76d9fd"
      },
      "execution_count": null,
      "outputs": [
        {
          "output_type": "stream",
          "name": "stdout",
          "text": [
            "[94, 'vasavi', 8]\n"
          ]
        }
      ]
    },
    {
      "cell_type": "code",
      "source": [
        "b.remove(\"killer\")\n",
        "print(b)"
      ],
      "metadata": {
        "colab": {
          "base_uri": "https://localhost:8080/"
        },
        "id": "SlNqPAIjBlc7",
        "outputId": "5b427eb1-3630-4689-82e2-5be2f1bf4fa4"
      },
      "execution_count": null,
      "outputs": [
        {
          "output_type": "stream",
          "name": "stdout",
          "text": [
            "[34, 90.8, 45]\n"
          ]
        }
      ]
    },
    {
      "cell_type": "code",
      "source": [
        "c=[1,12,13,23,13]\n",
        "print(max(c))\n",
        "print((min(c)))"
      ],
      "metadata": {
        "colab": {
          "base_uri": "https://localhost:8080/"
        },
        "id": "GGyaALHUCM9V",
        "outputId": "69734d11-4d1b-4337-b710-e9ccca265aab"
      },
      "execution_count": null,
      "outputs": [
        {
          "output_type": "stream",
          "name": "stdout",
          "text": [
            "23\n",
            "1\n"
          ]
        }
      ]
    },
    {
      "cell_type": "markdown",
      "source": [
        "list comprehension\n",
        "- iterates\n",
        "- applied to some function on every element\n",
        "- conditions\n",
        "- output : list"
      ],
      "metadata": {
        "id": "T7FBXDUXDFiB"
      }
    },
    {
      "cell_type": "code",
      "source": [
        "a=[13,23,94,4]\n",
        "b=[i**2 for i in a] #output iteration\n",
        "print(b)\n",
        "c=[i**2 for i in a if i>=50] #condition output iteration\n",
        "print(c)"
      ],
      "metadata": {
        "colab": {
          "base_uri": "https://localhost:8080/"
        },
        "id": "VQtwznxJCxXy",
        "outputId": "9c36c6b3-1fcd-4e1d-a0ac-1f2a6c3ea347"
      },
      "execution_count": null,
      "outputs": [
        {
          "output_type": "stream",
          "name": "stdout",
          "text": [
            "[169, 529, 8836, 16]\n",
            "[8836]\n"
          ]
        }
      ]
    },
    {
      "cell_type": "markdown",
      "source": [
        "#the salaries of 5 employees in a company is taken in a list. the tax is 10% if the salary is less than or equal to 50000 or it is 15%\n",
        "creating a list with salaries\n",
        "[67000,45000,89000,34000,50000]\n",
        "list_name=[(body of if) (condition) else (body of else) iteration]"
      ],
      "metadata": {
        "id": "2425ZUsWHDpO"
      }
    },
    {
      "cell_type": "code",
      "source": [
        "l1=[67000,45000,89000,34000,50000]\n",
        "tax=[]\n",
        "for i in l1:\n",
        "  if i<=50000:\n",
        "    t=i*0.1\n",
        "    tax.append(t)\n",
        "  else:\n",
        "    t=i*0.15\n",
        "    tax.append(t)\n",
        "print(tax)"
      ],
      "metadata": {
        "colab": {
          "base_uri": "https://localhost:8080/"
        },
        "id": "9peYPo9WGLBg",
        "outputId": "573eb9c4-f2a3-4849-ddde-6d9644e841b7"
      },
      "execution_count": null,
      "outputs": [
        {
          "output_type": "stream",
          "name": "stdout",
          "text": [
            "[10050.0, 4500.0, 13350.0, 3400.0, 5000.0]\n"
          ]
        }
      ]
    },
    {
      "cell_type": "code",
      "source": [
        "#using list comprehension\n",
        "#list_name=[(body of if) if (condition) else (body of else) iteration]\n",
        "l1=[67000,45000,89000,34000,50000]\n",
        "tax=[i*0.1 if i<=50000 else i*0.15 for i in l1]\n",
        "print(tax)"
      ],
      "metadata": {
        "colab": {
          "base_uri": "https://localhost:8080/"
        },
        "id": "Yoysyy4bJAD-",
        "outputId": "2aa4d358-ebdb-46c7-d346-9cdd04f2860d"
      },
      "execution_count": null,
      "outputs": [
        {
          "output_type": "stream",
          "name": "stdout",
          "text": [
            "[10050.0, 4500.0, 13350.0, 3400.0, 5000.0]\n"
          ]
        }
      ]
    }
  ]
}